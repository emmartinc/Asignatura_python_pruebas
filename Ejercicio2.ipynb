{
 "cells": [
  {
   "cell_type": "code",
   "execution_count": 1,
   "metadata": {},
   "outputs": [
    {
     "name": "stdout",
     "output_type": "stream",
     "text": [
      "33.3\n",
      "33.3\n",
      "0.0\n"
     ]
    }
   ],
   "source": [
    "#A1C1 Ejercicio 2\n",
    "#Porcentaje de vocales. \n",
    "#Escribe una función porcentVocal(s) en que dado un string s,\n",
    "#la función devuelva el porcentaje de vocales que contiene el string. \n",
    "#Deben considerarse vocales minúsculas y mayúsculas. \n",
    "#Devolver el resultado con un decimal de precisión.\n",
    "#Consideraremos que las vocales están sin tilde o acento gráfico. \n",
    "#Se valorará prever el caso que se envíe como argumento un string vacío.\n",
    "\n",
    "def porcentVocal(s):\n",
    "    # Manejar el caso del string vacío\n",
    "    if len(s) == 0:\n",
    "        return 0.0\n",
    "    \n",
    "    # Contar el número de vocales en el string (tanto minúsculas como mayúsculas)\n",
    "    num_vocales = sum(1 for char in s if char in 'aeiouAEIOU')\n",
    "    \n",
    "    # Calcular el porcentaje de vocales\n",
    "    porcentaje = (num_vocales / len(s)) * 100\n",
    "    \n",
    "    # Devolver el porcentaje con un decimal de precisión\n",
    "    return round(porcentaje, 1)\n",
    "\n",
    "# Ejemplos:\n",
    "print(porcentVocal(\"Eva Martin Cruz\"))  # Devolverá el porcentaje de vocales de mi nombre\n",
    "print(porcentVocal(\"EVA MARTIN CRUZ\"))  # Devolverá el mismo porcentaje porque cuenta igual min que may\n",
    "print(porcentVocal(\"\"))            # Devolverá 0.0 para el string vacío\n"
   ]
  }
 ],
 "metadata": {
  "kernelspec": {
   "display_name": "Python 3",
   "language": "python",
   "name": "python3"
  },
  "language_info": {
   "codemirror_mode": {
    "name": "ipython",
    "version": 3
   },
   "file_extension": ".py",
   "mimetype": "text/x-python",
   "name": "python",
   "nbconvert_exporter": "python",
   "pygments_lexer": "ipython3",
   "version": "3.12.2"
  }
 },
 "nbformat": 4,
 "nbformat_minor": 2
}
