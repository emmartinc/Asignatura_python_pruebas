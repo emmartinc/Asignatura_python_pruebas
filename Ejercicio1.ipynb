{
 "cells": [
  {
   "cell_type": "code",
   "execution_count": 1,
   "metadata": {},
   "outputs": [
    {
     "name": "stdout",
     "output_type": "stream",
     "text": [
      "El resultado de la función es: True\n",
      "El resultado de la función es: False\n"
     ]
    }
   ],
   "source": [
    "##A1C1 Ejercicio 1\n",
    "#Identificador válido. Para que los identificadores o nombres de las variables o funciones sean\n",
    "#válidos deben comenzar e incluir letras a..z. (minúscula o mayúscula) o el guión bajo (_).\n",
    "#Pueden incluir también números (0..9) pero que no sean el primer carácter del identificador.\n",
    "#Diseña una función FirstChar(s) que, dado un string s (no vacío), nos devuelva True o False depemdiendo de\n",
    "#si el string es válido o no para identificar o dar nombre a una variable o función.\n",
    "#Python permite identificadores con vocales acentuadas, como área o caracteres alfabéticos como la ñ, aunque no es\n",
    "#recomendable esta práctica por si se cambia de lenguaje de programación. Considerad para este ejercicio caracteres\n",
    "#alfabéticos de ASCII básico (alfabeto inglés).\n",
    "\n",
    "def FirstChar(s):\n",
    "   \n",
    "    # Obtener el primer carácter de la palabra\n",
    "    primer_caracter = s[0]\n",
    "    \n",
    "    # Validar si el primer carácter es una letra\n",
    "    if 'a' <= primer_caracter <= 'z' or 'A' <= primer_caracter <= 'Z':\n",
    "        return True\n",
    "    else:\n",
    "        return False\n",
    "    \n",
    "    # Ejemplos:\n",
    "resultado = FirstChar('Almeria')\n",
    "print(\"El resultado de la función es:\", resultado)\n",
    "resultado = FirstChar('112')\n",
    "print(\"El resultado de la función es:\", resultado)"
   ]
  }
 ],
 "metadata": {
  "kernelspec": {
   "display_name": "Python 3",
   "language": "python",
   "name": "python3"
  },
  "language_info": {
   "codemirror_mode": {
    "name": "ipython",
    "version": 3
   },
   "file_extension": ".py",
   "mimetype": "text/x-python",
   "name": "python",
   "nbconvert_exporter": "python",
   "pygments_lexer": "ipython3",
   "version": "3.12.2"
  }
 },
 "nbformat": 4,
 "nbformat_minor": 2
}
