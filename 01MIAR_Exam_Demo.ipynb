{
 "cells": [
  {
   "cell_type": "markdown",
   "id": "70c155af-8923-4e01-a5e2-586d1bcbc8f2",
   "metadata": {},
   "source": [
    "# Examen Demo"
   ]
  },
  {
   "cell_type": "code",
   "execution_count": 63,
   "id": "8ef7d433-2f37-43b7-95ad-5c65b99f39b9",
   "metadata": {},
   "outputs": [],
   "source": [
    "import pandas as pd\n",
    "import numpy as np\n",
    "import matplotlib as pt"
   ]
  },
  {
   "cell_type": "markdown",
   "id": "0ddfb619-f1e8-4d7f-9bb5-b08686efabf2",
   "metadata": {
    "tags": []
   },
   "source": [
    "## 01\n",
    "- La serie de Fibonacci es una sucesión de números, en la cual cada número es la suma de los dos anteriores. Los dos primeros son siempre 0 y 1.\n",
    "  - $F_0 = 0$\n",
    "  - $F_1 = 1$\n",
    "  - $F_n = F_{n-1} + F_{n-2}$\n",
    "- Crear una serie de Fibonacci hasta un número *n* usando una función lambda."
   ]
  },
  {
   "cell_type": "code",
   "execution_count": 42,
   "id": "7f9d090c-d087-4694-8249-3e89f5e866cb",
   "metadata": {},
   "outputs": [],
   "source": [
    "# Definir la función lambda para la serie de Fibonacci\n",
    "fibonacci_lambda = lambda n: [0, 1][:n] if n <= 2 else fibonacci_lambda(n-1) + [fibonacci_lambda(n-1)[-1] + fibonacci_lambda(n-2)[-1]]"
   ]
  },
  {
   "cell_type": "markdown",
   "id": "59e3198e-2550-409c-bf4d-5cd820c69a83",
   "metadata": {
    "tags": []
   },
   "source": [
    "# explicacion de Definición de la Función Lambda:\n",
    "\n",
    "fibonacci_lambda = lambda n: [0, 1][:n] if n <= 2 else fibonacci_lambda(n-1) + [fibonacci_lambda(n-1)[-1] + fibonacci_lambda(n-2)[-1]]\n",
    "\n",
    "Esto significa que fibonacci_lambda es una función lambda que toma un argumento n.\n",
    "\n",
    "\n",
    "- Condición Base:\n",
    "\n",
    "[0, 1][:n] if n <= 2: Si n es 1 o 2, devuelve [0, 1] truncado a n elementos.\n",
    "\n",
    "Si n = 1, devuelve [0].\n",
    "\n",
    "Si n = 2, devuelve [0, 1].\n",
    "\n",
    "\n",
    "- Caso Recursivo:\n",
    "\n",
    "else fibonacci_lambda(n-1) + [fibonacci_lambda(n-1)[-1] + fibonacci_lambda(n-2)[-1]]\n",
    "\n",
    "Si n es mayor que 2, calcula la serie de Fibonacci hasta n-1 y agrega la suma de los dos últimos elementos de las series de Fibonacci de n-1 y n-2.\n",
    "\n",
    "fibonacci_lambda(n-1): Genera la serie de Fibonacci hasta n-1.\n",
    "\n",
    "fibonacci_lambda(n-1)[-1] + fibonacci_lambda(n-2)[-1]: Calcula el siguiente número de Fibonacci sumando los dos últimos números de las series de n-1 y n-2.\n",
    "\n",
    "[fibonacci_lambda(n-1) + [fibonacci_lambda(n-1)[-1] + fibonacci_lambda(n-2)[-1]]]: Combina la serie hasta n-1 con el nuevo número de Fibonacci calculado."
   ]
  },
  {
   "cell_type": "code",
   "execution_count": 50,
   "id": "4304e11b-f7d2-4522-8432-1024f45237c0",
   "metadata": {},
   "outputs": [],
   "source": [
    "# Crear la serie de Fibonacci hasta el número n usando la función lambda\n",
    "def serie_fibonacci(n):\n",
    "    fibo_serie = fibonacci_lambda(n)\n",
    "    for i in range(2, n):\n",
    "        fibo_serie[i] = fibo_serie[i - 1] + fibo_serie[i - 2]\n",
    "    return fibo_serie"
   ]
  },
  {
   "cell_type": "code",
   "execution_count": 80,
   "id": "9f6f8961-e7d9-413e-91f5-ff8e9a35279a",
   "metadata": {},
   "outputs": [
    {
     "name": "stdout",
     "output_type": "stream",
     "text": [
      "[0, 1, 1, 2, 3, 5, 8, 13, 21, 34, 55, 89, 144, 233, 377, 610, 987, 1597]\n"
     ]
    }
   ],
   "source": [
    "expected_fibo_serie = [0,1,1,2,3,5,8,13,21,34,55,89,144,233,377,610,987,1597]\n",
    "fibo_serie = fibonacci_lambda(len(expected_fibo_serie))  # This calls your lambda function fibonacci_lambda\n",
    "print(fibo_serie)\n",
    "assert(expected_fibo_serie == fibo_serie)  # This will fail if the serie is not correct"
   ]
  },
  {
   "cell_type": "markdown",
   "id": "3168850c-f9bb-4060-b6e3-06813ec86e54",
   "metadata": {},
   "source": [
    "## 02\n",
    "- Crear una función que reciba un array de NumPy y devuelva otro en el cual estén marcados como True los elementos duplicados (a partir de la segunda ocurrencia), y como False los no repetidos o las primeras ocurrencias de los duplicados."
   ]
  },
  {
   "cell_type": "code",
   "execution_count": 99,
   "id": "cae5cdc4-11d6-42bc-8c4a-7fd7655bbe34",
   "metadata": {
    "tags": []
   },
   "outputs": [],
   "source": [
    "def find_duplicates(arr):\n",
    "    # Crear un array de booleanos inicializado a False con la misma longitud que el array de entrada\n",
    "    duplicates = np.full(len(arr), False, dtype=bool)\n",
    "    \n",
    "    # Crear un diccionario para contar las ocurrencias de cada elemento\n",
    "    conteo = {}\n",
    "    \n",
    "    # Iterar sobre cada elemento del array\n",
    "    for i, elem in enumerate(arr):\n",
    "        if elem in conteo:\n",
    "            # Si el elemento ya está en el diccionario, es una ocurrencia duplicada\n",
    "            duplicates[i] = True\n",
    "        else:\n",
    "            # Si el elemento no está en el diccionario, es la primera ocurrencia\n",
    "            conteo[elem] = 1\n",
    "    \n",
    "    return duplicates"
   ]
  },
  {
   "cell_type": "markdown",
   "id": "772fb03d-b048-4656-9891-11df853dec6b",
   "metadata": {},
   "source": [
    "- Inicializar un array de booleanos: Este array tendrá la misma longitud que el array de entrada y se inicializará con False.\n",
    "    \n",
    "    Lo hacemos con la funcion numpy.full(shape, fill_value, dtype=None, order='C')\n",
    "\n",
    "- Usar un diccionario para llevar un conteo: Utilizaremos un diccionario para contar las ocurrencias de cada elemento en el array.\n",
    "\n",
    "    cada elemento del array es una clave y su número de ocurrencias es el valor asociado.\n",
    "\n",
    "- Recorrer el array: Iteramos sobre cada elemento del array, actualizando el diccionario y marcando True en el array de booleanos si el elemento ya ha sido visto antes."
   ]
  },
  {
   "cell_type": "code",
   "execution_count": 102,
   "id": "bcc96612-dff4-4779-b4df-2595aa235309",
   "metadata": {},
   "outputs": [],
   "source": [
    "numbers = np.array([4, 4, 4, 3, 8, 1, 9, 6, 1, 5, 9, 4, 0, 2])\n",
    "expected_output = np.array([False, True, True, False, False, False, False, False, True, False, True, True, False, False])\n",
    "output = find_duplicates(numbers)   # This calls your function find_duplicates\n",
    "assert(np.array_equal(expected_output, output))  # This will fail if the result is not as expected"
   ]
  },
  {
   "cell_type": "code",
   "execution_count": 106,
   "id": "c1fb4328-28e7-47ab-b330-df5607a9cf94",
   "metadata": {},
   "outputs": [
    {
     "name": "stdout",
     "output_type": "stream",
     "text": [
      "[False  True  True False False False False False  True False  True  True\n",
      " False False]\n"
     ]
    }
   ],
   "source": [
    "print (output)"
   ]
  },
  {
   "cell_type": "markdown",
   "id": "93e1a9cd-ee85-48b0-b5e5-3d37aeeddb6e",
   "metadata": {
    "tags": []
   },
   "source": [
    "## 03\n",
    "- Resolución de dos sistemas de ecuaciones\n",
    "    - $ A : \\begin{cases} -9x +  4y = 20 \\\\ -7y + 16x = 80                         \\end{cases}$\n",
    "    \n",
    "    - $ B : \\begin{cases} x - 2y + 3z = 7 \\\\ 2x + y + z = 4 \\\\ -3x + 2y -2z = -10 \\end{cases}$\n",
    "- Verifica por código los resultados"
   ]
  },
  {
   "cell_type": "code",
   "execution_count": 178,
   "id": "bbcc2811-859f-4023-bdbd-298750502ead",
   "metadata": {
    "tags": []
   },
   "outputs": [
    {
     "name": "stdout",
     "output_type": "stream",
     "text": [
      "[-0.  5.]\n",
      "Solucion sistema A\n",
      "x =  0\n",
      "y =  5\n"
     ]
    }
   ],
   "source": [
    "A = np.array([[-9,4], [-7,16]])\n",
    "termino_independienteA = np.array([20,80])\n",
    "SOLUCIONA = np.linalg.solve(A,termino_independienteA)\n",
    "print (SOLUCIONA)\n",
    "print ('Solucion sistema A')\n",
    "print ('x = ', int(SOLUCIONA[0]))\n",
    "print ('y = ', int(SOLUCIONA[1]))"
   ]
  },
  {
   "cell_type": "code",
   "execution_count": 180,
   "id": "f82fec71-5f6f-424a-b918-4c52b9a13635",
   "metadata": {},
   "outputs": [
    {
     "name": "stdout",
     "output_type": "stream",
     "text": [
      "las soluciones de A son correctas\n"
     ]
    }
   ],
   "source": [
    "#Para omprobar las soluciones\n",
    "if np.allclose(np.dot(A, SOLUCIONA), termino_independienteA):\n",
    "    print(\"las soluciones de A son correctas\")\n",
    "else:\n",
    "    print(\"las soluciones de A son incorrectas\")"
   ]
  },
  {
   "cell_type": "code",
   "execution_count": 140,
   "id": "969d7a45-179a-4a5c-81e0-4ce4621439b7",
   "metadata": {},
   "outputs": [
    {
     "name": "stdout",
     "output_type": "stream",
     "text": [
      "[ 2. -1.  1.]\n",
      "Solucion sistema B\n",
      "x =  2\n",
      "y =  -1\n"
     ]
    }
   ],
   "source": [
    "B = np.array([[1,-2,3], [2,1,1], [-3,2,-2]])\n",
    "termino_independienteB = np.array([7,4,-10])\n",
    "SOLUCIONB = np.linalg.solve(B,termino_independienteB)\n",
    "print (SOLUCIONB)\n",
    "print ('Solucion sistema B')\n",
    "print ('x = ', int(SOLUCION[0]))\n",
    "print ('y = ', int(SOLUCION[1]))"
   ]
  },
  {
   "cell_type": "code",
   "execution_count": 170,
   "id": "6b6e2005-c5c6-44dd-adac-3fb7b541bfbb",
   "metadata": {
    "tags": []
   },
   "outputs": [
    {
     "name": "stdout",
     "output_type": "stream",
     "text": [
      "las soluciones de B son correctas\n"
     ]
    }
   ],
   "source": [
    "#Para omprobar las soluciones\n",
    "if np.allclose(np.dot(B, SOLUCIONB), termino_independienteB):\n",
    "    print(\"las soluciones de B son correctas\")\n",
    "else:\n",
    "    print(\"las soluciones de B son incorrectas\")\n"
   ]
  },
  {
   "cell_type": "markdown",
   "id": "655fe747-7f14-42dd-8a9a-6b532517bede",
   "metadata": {
    "tags": []
   },
   "source": [
    "## 04\n",
    "- Crear un objeto Series con 10 elementos, que contenga más de un tipo básico, con índices de tipo string\n",
    "- Demuestra que los datos con índices posicionales son los mismos que los obtenidos con índices semánticos, seleccionando a través de slicing, al menos 4 elementos de la serie anterior"
   ]
  },
  {
   "cell_type": "code",
   "execution_count": 186,
   "id": "ce7f3e5d-781e-49f5-9ab8-f8e6593ab327",
   "metadata": {},
   "outputs": [
    {
     "name": "stdout",
     "output_type": "stream",
     "text": [
      "a          1\n",
      "b        2.5\n",
      "c    string1\n",
      "d       True\n",
      "e         42\n",
      "f     3.1415\n",
      "g    string2\n",
      "h      False\n",
      "i          7\n",
      "j      2.718\n",
      "dtype: object\n",
      "Selección usando índices posicionales:\n",
      "b        2.5\n",
      "c    string1\n",
      "d       True\n",
      "e         42\n",
      "dtype: object\n",
      "\n",
      "Selección usando índices semánticos:\n",
      "b        2.5\n",
      "c    string1\n",
      "d       True\n",
      "e         42\n",
      "dtype: object\n",
      "\n",
      "Los datos obtenidos son los mismos usando ambos métodos de selección.\n"
     ]
    }
   ],
   "source": [
    "# Crear un diccionario con 10 elementos de diferentes tipos\n",
    "data = {\n",
    "    'a': 1,                 # Entero\n",
    "    'b': 2.5,               # Flotante\n",
    "    'c': 'string1',         # Cadena de texto\n",
    "    'd': True,              # Booleano\n",
    "    'e': 42,                # Entero\n",
    "    'f': 3.1415,            # Flotante\n",
    "    'g': 'string2',         # Cadena de texto\n",
    "    'h': False,             # Booleano\n",
    "    'i': 7,                 # Entero\n",
    "    'j': 2.718,             # Flotante\n",
    "}\n",
    "# Crear una Serie a partir del diccionario\n",
    "series = pd.Series(data)\n",
    "\n",
    "# Imprimir la Serie\n",
    "print(series)\n",
    "# Seleccionar al menos 4 elementos usando índices posicionales\n",
    "positional_slice = series[1:5]\n",
    "\n",
    "# Seleccionar los mismos elementos usando índices semánticos\n",
    "semantic_slice = series[['b', 'c', 'd', 'e']]\n",
    "\n",
    "# Imprimir los resultados de ambas selecciones\n",
    "print(\"Selección usando índices posicionales:\")\n",
    "print(positional_slice)\n",
    "\n",
    "print(\"\\nSelección usando índices semánticos:\")\n",
    "print(semantic_slice)\n",
    "\n",
    "# Comprobar si los datos obtenidos son los mismos\n",
    "assert positional_slice.equals(semantic_slice), \"Los datos no coinciden\"\n",
    "print(\"\\nLos datos obtenidos son los mismos usando ambos métodos de selección.\")"
   ]
  },
  {
   "cell_type": "markdown",
   "id": "3f12a152-8257-491a-9b2f-270607831cc0",
   "metadata": {
    "tags": []
   },
   "source": [
    "## 05\n",
    "- Crear un DataFrame de dimensiones 10x10, con números aleatorios en el rango `[0,20]`\n",
    "- Reemplazar todos aquellos elementos menores de 5 por NaN\n",
    "- Averiguar cuantos elementos tienen Nan por fila"
   ]
  },
  {
   "cell_type": "code",
   "execution_count": 192,
   "id": "e6c62f70-14cb-446c-86eb-5428f36f627f",
   "metadata": {},
   "outputs": [
    {
     "name": "stdout",
     "output_type": "stream",
     "text": [
      "    0   1   2   3   4   5   6   7   8   9\n",
      "0  12  15   0   3   3   7   9  19  18   4\n",
      "1   6  12   1   6   7  14  17   5  13   8\n",
      "2   9  20  19  16  19   5  15  15   0  18\n",
      "3   3  17  19  19  19  14   7   0   1   9\n",
      "4   0  10  20   3  11  18   2   0   0   4\n",
      "5   5   6   8  20  17  15   4   9  10   1\n",
      "6   1   7   9   3   6  11  14  18   0  14\n",
      "7   3  12  10  20  11   4   6   4  15  20\n",
      "8   3  12   4  20   8  14  15  20   3  15\n",
      "9  13  16  17   5   9   3   0   5   0  17\n",
      "\n",
      "DataFrame después de reemplazar elementos menores de 5 por NaN:\n",
      "      0   1     2     3     4     5     6     7     8     9\n",
      "0  12.0  15   NaN   NaN   NaN   7.0   9.0  19.0  18.0   NaN\n",
      "1   6.0  12   NaN   6.0   7.0  14.0  17.0   5.0  13.0   8.0\n",
      "2   9.0  20  19.0  16.0  19.0   5.0  15.0  15.0   NaN  18.0\n",
      "3   NaN  17  19.0  19.0  19.0  14.0   7.0   NaN   NaN   9.0\n",
      "4   NaN  10  20.0   NaN  11.0  18.0   NaN   NaN   NaN   NaN\n",
      "5   5.0   6   8.0  20.0  17.0  15.0   NaN   9.0  10.0   NaN\n",
      "6   NaN   7   9.0   NaN   6.0  11.0  14.0  18.0   NaN  14.0\n",
      "7   NaN  12  10.0  20.0  11.0   NaN   6.0   NaN  15.0  20.0\n",
      "8   NaN  12   NaN  20.0   8.0  14.0  15.0  20.0   NaN  15.0\n",
      "9  13.0  16  17.0   5.0   9.0   NaN   NaN   5.0   NaN  17.0\n",
      "\n",
      "Número de elementos NaN por fila:\n",
      "0    4\n",
      "1    1\n",
      "2    1\n",
      "3    3\n",
      "4    6\n",
      "5    2\n",
      "6    3\n",
      "7    3\n",
      "8    3\n",
      "9    3\n",
      "dtype: int64\n"
     ]
    }
   ],
   "source": [
    "# Establecer la semilla del generador de números aleatorios para reproducibilidad (opcional)\n",
    "np.random.seed(0)\n",
    "\n",
    "# Crear un DataFrame de dimensiones 10x10 con números aleatorios en el rango [0, 20]\n",
    "df = pd.DataFrame(np.random.randint(0, 21, size=(10, 10)))\n",
    "\n",
    "# Imprimir el DataFrame\n",
    "print(df)\n",
    "\n",
    "# Reemplazar los elementos menores de 5 por NaN\n",
    "df = df.where(df >= 5, np.nan)\n",
    "\n",
    "# Imprimir el DataFrame modificado\n",
    "print(\"\\nDataFrame después de reemplazar elementos menores de 5 por NaN:\")\n",
    "print(df)\n",
    "\n",
    "# Contar los elementos NaN por fila\n",
    "nan_counts = df.isna().sum(axis=1)\n",
    "\n",
    "# Imprimir el conteo de NaN por fila\n",
    "print(\"\\nNúmero de elementos NaN por fila:\")\n",
    "print(nan_counts)\n"
   ]
  },
  {
   "cell_type": "markdown",
   "id": "8ba8d87a-190e-48ab-9235-04d875ef994e",
   "metadata": {
    "tags": []
   },
   "source": [
    "## 06\n",
    "- Dada una lista de elementos, crea una función que devuelva un dataframe sin los elementos duplicados"
   ]
  },
  {
   "cell_type": "code",
   "execution_count": 195,
   "id": "ee636cf0-9bff-497e-b4d9-ab42ac4b166a",
   "metadata": {},
   "outputs": [],
   "source": [
    "def remove_duplicates(elements):\n",
    "    # Convertir la lista en un DataFrame\n",
    "    df = pd.DataFrame(elements, columns=['Element'])\n",
    "    \n",
    "    # Eliminar los elementos duplicados\n",
    "    df_no_duplicates = df.drop_duplicates()\n",
    "    \n",
    "    return df_no_duplicates"
   ]
  },
  {
   "cell_type": "code",
   "execution_count": 197,
   "id": "18d7bb34-b613-497e-b59b-aca2ec09863d",
   "metadata": {},
   "outputs": [
    {
     "name": "stdout",
     "output_type": "stream",
     "text": [
      "  Element\n",
      "0       a\n",
      "1       b\n",
      "2       c\n",
      "6       g\n"
     ]
    },
    {
     "ename": "AssertionError",
     "evalue": "",
     "output_type": "error",
     "traceback": [
      "\u001b[1;31m---------------------------------------------------------------------------\u001b[0m",
      "\u001b[1;31mAssertionError\u001b[0m                            Traceback (most recent call last)",
      "Cell \u001b[1;32mIn[197], line 5\u001b[0m\n\u001b[0;32m      3\u001b[0m output \u001b[38;5;241m=\u001b[39m remove_duplicates(serie)   \u001b[38;5;66;03m# This will call tour function remove_duplicates\u001b[39;00m\n\u001b[0;32m      4\u001b[0m \u001b[38;5;28mprint\u001b[39m(output)\n\u001b[1;32m----> 5\u001b[0m \u001b[38;5;28;01massert\u001b[39;00m(expected_output\u001b[38;5;241m.\u001b[39mequals(output))  \u001b[38;5;66;03m# This will fail if the result is not as expected\u001b[39;00m\n",
      "\u001b[1;31mAssertionError\u001b[0m: "
     ]
    }
   ],
   "source": [
    "serie = ['a','b','c','a','c','a','g']\n",
    "expected_output = pd.DataFrame(['a','b','c','g'])\n",
    "output = remove_duplicates(serie)   # This will call tour function remove_duplicates\n",
    "print(output)\n",
    "assert(expected_output.equals(output))  # This will fail if the result is not as expected"
   ]
  },
  {
   "cell_type": "markdown",
   "id": "211cff7b-d71d-4db8-bd16-71f09ca57399",
   "metadata": {},
   "source": [
    "## 07 - 1pt\n",
    "- Escribir un generador `frange` que simule el comportamiento de la función `arange` de NumPy\n",
    "- Esta función cada vez que se invoque debe devolver valores espaciados uniformemente a partir de un valor inicial. Se debe proveer a dicha función un valor inicial para la secuencia de números y un valor para el step\n",
    "- Debe soportar valores númericos en coma flotante\n",
    "- La función potencialmente se puede llamar un número infinito de veces\n",
    "- Usando plain Python, sin ninguna librería"
   ]
  },
  {
   "cell_type": "code",
   "execution_count": null,
   "id": "19be50b6-7a52-4dd1-a081-2e483cb3bbf8",
   "metadata": {},
   "outputs": [],
   "source": [
    "import math\n",
    "\n",
    "init = 10.6\n",
    "step = 0.8\n",
    "g = frange(init, step)  # This calls your function frange\n",
    "\n",
    "iters = 10\n",
    "numbers = [next(g) for n in range(iters)]\n",
    "for i, n in enumerate(numbers):\n",
    "    assert(math.isclose(n, init + (step * i)))  # This will fail if the range is not properly created\\\n",
    "print(numbers)"
   ]
  },
  {
   "cell_type": "code",
   "execution_count": null,
   "id": "9d395c62-a894-48ce-990b-cf60d34ec065",
   "metadata": {},
   "outputs": [],
   "source": [
    "# Your solution HERE !!!!"
   ]
  },
  {
   "cell_type": "markdown",
   "id": "ae093f1d-b4e5-4ac3-a0a8-c6aecb8a084d",
   "metadata": {
    "tags": []
   },
   "source": [
    "## 08\n",
    "- Crear una función que reciba una Serie de Pandas y devuelva esa misma serie, reemplazando los espacios en blanco por el carácter menos frecuente en dicha serie."
   ]
  },
  {
   "cell_type": "code",
   "execution_count": null,
   "id": "0472c9a4-ce23-42e2-9090-ee4695d6057a",
   "metadata": {},
   "outputs": [],
   "source": [
    "# Your solution HERE !!!!"
   ]
  },
  {
   "cell_type": "code",
   "execution_count": null,
   "id": "02390a36-6e74-4e34-b46a-e1612771863e",
   "metadata": {},
   "outputs": [],
   "source": [
    "serie = pd.Series(list('bba cabc faabba aacbbfe'))\n",
    "expected_output = pd.Series(list('bbaecabcefaabbaeaacbbfe'))\n",
    "output = clean_whitespace_replace(serie)  # This calls your function clean_whitespace_replace\n",
    "assert(expected_output.equals(output))  # This will fail if result is not as expected"
   ]
  }
 ],
 "metadata": {
  "kernelspec": {
   "display_name": "Python 3 (ipykernel)",
   "language": "python",
   "name": "python3"
  },
  "language_info": {
   "codemirror_mode": {
    "name": "ipython",
    "version": 3
   },
   "file_extension": ".py",
   "mimetype": "text/x-python",
   "name": "python",
   "nbconvert_exporter": "python",
   "pygments_lexer": "ipython3",
   "version": "3.11.7"
  }
 },
 "nbformat": 4,
 "nbformat_minor": 5
}
